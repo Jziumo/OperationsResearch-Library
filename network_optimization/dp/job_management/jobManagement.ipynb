{
 "cells": [
  {
   "cell_type": "code",
   "execution_count": 5,
   "id": "4f7393c9-5246-48d0-8f8e-c4a4cf6160b9",
   "metadata": {},
   "outputs": [
    {
     "name": "stdout",
     "output_type": "stream",
     "text": [
      "    month  l  h\n",
      "0       1  1  4\n",
      "1       2  2  8\n",
      "2       3  1  4\n",
      "3       4  1  7\n",
      "4       5  5  8\n",
      "5       6  3  8\n",
      "6       7  3  4\n",
      "7       8  1  5\n",
      "8       9  5  5\n",
      "9      10  4  8\n",
      "10     11  2  6\n",
      "11     12  3  8\n",
      "\n",
      "Low-stress Value: [1, 2, 1, 1, 5, 3, 3, 1, 5, 4, 2, 3]\n",
      "\n",
      "High-stress Value: [4, 8, 4, 7, 8, 8, 4, 5, 5, 8, 6, 8]\n"
     ]
    }
   ],
   "source": [
    "# Read data from the job tables. \n",
    "import pandas as pd\n",
    "df = pd.read_csv('./job_table.csv', header=0)\n",
    "df.columns = df.columns.str.strip()\n",
    "print(df)\n",
    "\n",
    "# Transform to the list format. \n",
    "low = df.iloc[:,1].T.values.tolist()\n",
    "high = df.iloc[:,2].T.values.tolist()\n",
    "\n",
    "print('\\nLow-stress Value:', low)\n",
    "print('\\nHigh-stress Value:', high)\n",
    "\n",
    "# Preprocess\n",
    "low.insert(0, -1)\n",
    "high.insert(0, -1)"
   ]
  },
  {
   "cell_type": "code",
   "execution_count": 7,
   "id": "a2b811b9",
   "metadata": {},
   "outputs": [
    {
     "name": "stdout",
     "output_type": "stream",
     "text": [
      "The highest revenue obtained by December: 45\n",
      "Compute of OPT: \n",
      " OPT(0) = 0\n",
      " OPT(1) = 4\n",
      " OPT(2) = 8\n",
      " OPT(3) = 9\n",
      " OPT(4) = 15\n",
      " OPT(5) = 20\n",
      " OPT(6) = 23\n",
      " OPT(7) = 26\n",
      " OPT(8) = 28\n",
      " OPT(9) = 33\n",
      "OPT(10) = 37\n",
      "OPT(11) = 39\n",
      "OPT(12) = 45\n"
     ]
    }
   ],
   "source": [
    "def get_highest_revenue(low, high):     \n",
    "    opt = [-1] * 13\n",
    "    \n",
    "    opt[0] = 0\n",
    "    opt[1] = max(low[1], high[1])\n",
    "    for i in range(2, 13):\n",
    "        opt[i] = max(opt[i - 1] + low[i], opt[i - 2] + high[i])\n",
    "    \n",
    "    return opt[12], opt\n",
    "\n",
    "ans, opt = get_highest_revenue(low, high)\n",
    "print(f'The highest revenue obtained by December: {ans}')\n",
    "\n",
    "print('Compute of OPT: ')\n",
    "for i in range(len(opt)):\n",
    "    print(f'OPT({i})'.rjust(7,' '), f'= {opt[i]}')"
   ]
  }
 ],
 "metadata": {
  "kernelspec": {
   "display_name": "venv",
   "language": "python",
   "name": "python3"
  },
  "language_info": {
   "codemirror_mode": {
    "name": "ipython",
    "version": 3
   },
   "file_extension": ".py",
   "mimetype": "text/x-python",
   "name": "python",
   "nbconvert_exporter": "python",
   "pygments_lexer": "ipython3",
   "version": "3.9.13"
  }
 },
 "nbformat": 4,
 "nbformat_minor": 5
}
