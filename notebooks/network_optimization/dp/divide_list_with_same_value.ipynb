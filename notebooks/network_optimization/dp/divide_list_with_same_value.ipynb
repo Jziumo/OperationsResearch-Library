{
 "cells": [
  {
   "cell_type": "code",
   "execution_count": 3,
   "id": "ad140d2a-460d-44fe-a15a-8c0d437d3230",
   "metadata": {},
   "outputs": [
    {
     "name": "stdout",
     "output_type": "stream",
     "text": [
      "Can the list be divided in two subsets with same value: True\n",
      "  dp(0) = True\n",
      "  dp(1) = False\n",
      "  dp(2) = True\n",
      "  dp(3) = True\n",
      "  dp(4) = True\n",
      "  dp(5) = True\n",
      "  dp(6) = True\n",
      "  dp(7) = True\n",
      "  dp(8) = True\n",
      "  dp(9) = True\n",
      " dp(10) = True\n",
      " dp(11) = True\n",
      " dp(12) = True\n",
      " dp(13) = True\n",
      " dp(14) = True\n",
      " dp(15) = True\n"
     ]
    }
   ],
   "source": [
    "def can_partition(nums):\n",
    "    total_sum = sum(nums)\n",
    "    \n",
    "    # If total_sum is odd, partitioning into two equal subsets is impossible\n",
    "    if total_sum % 2 != 0:\n",
    "        return False\n",
    "    \n",
    "    target = total_sum // 2\n",
    "    dp = [False] * (target + 1)\n",
    "    dp[0] = True  # Base case: A sum of 0 is always possible\n",
    "    \n",
    "    for num in nums:\n",
    "        for j in range(target, num - 1, -1):  # Traverse backwards\n",
    "            dp[j] = dp[j] or dp[j - num]\n",
    "\n",
    "        # shows the results with the number that has been iterated\n",
    "        # for i in range(target + 1):\n",
    "        #     print(f'dp[{i}]={dp[i]}')\n",
    "    \n",
    "    return dp[target], dp\n",
    "\n",
    "# Example usage\n",
    "nums = [2, 3, 4, 6, 7, 8]\n",
    "ans, dp = can_partition(nums)\n",
    "print(f'Can the list be divided in two subsets with same value: {str(ans)}')\n",
    "for j in range(len(dp)):\n",
    "    print(f'dp({j})'.rjust(7,' '), f'= {dp[j]}')\n"
   ]
  }
 ],
 "metadata": {
  "kernelspec": {
   "display_name": "venv",
   "language": "python",
   "name": "python3"
  },
  "language_info": {
   "codemirror_mode": {
    "name": "ipython",
    "version": 3
   },
   "file_extension": ".py",
   "mimetype": "text/x-python",
   "name": "python",
   "nbconvert_exporter": "python",
   "pygments_lexer": "ipython3",
   "version": "3.9.13"
  }
 },
 "nbformat": 4,
 "nbformat_minor": 5
}
