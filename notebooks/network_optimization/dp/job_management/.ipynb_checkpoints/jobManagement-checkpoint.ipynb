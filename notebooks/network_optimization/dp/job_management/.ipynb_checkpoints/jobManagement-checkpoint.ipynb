{
 "cells": [
  {
   "cell_type": "code",
   "execution_count": 1,
   "id": "4f7393c9-5246-48d0-8f8e-c4a4cf6160b9",
   "metadata": {},
   "outputs": [
    {
     "name": "stdout",
     "output_type": "stream",
     "text": [
      "    month   l   h\n",
      "0       1   1   4\n",
      "1       2   2   8\n",
      "2       3   1   4\n",
      "3       4   1   7\n",
      "4       5   5   8\n",
      "5       6   3   8\n",
      "6       7   3   4\n",
      "7       8   1   5\n",
      "8       9   5   5\n",
      "9      10   4   8\n",
      "10     11   2   6\n",
      "11     12   3   8\n"
     ]
    }
   ],
   "source": [
    "# Read data from the job tables. \n",
    "import pandas as pd\n",
    "df = pd.read_csv('./job_table.csv', header=0)\n",
    "table = []\n",
    "\n",
    "print(df)"
   ]
  },
  {
   "cell_type": "code",
   "execution_count": null,
   "id": "f81242dc-ae70-48a7-b933-7dd249905803",
   "metadata": {},
   "outputs": [],
   "source": []
  }
 ],
 "metadata": {
  "kernelspec": {
   "display_name": "Python 3 (ipykernel)",
   "language": "python",
   "name": "python3"
  },
  "language_info": {
   "codemirror_mode": {
    "name": "ipython",
    "version": 3
   },
   "file_extension": ".py",
   "mimetype": "text/x-python",
   "name": "python",
   "nbconvert_exporter": "python",
   "pygments_lexer": "ipython3",
   "version": "3.9.13"
  }
 },
 "nbformat": 4,
 "nbformat_minor": 5
}
