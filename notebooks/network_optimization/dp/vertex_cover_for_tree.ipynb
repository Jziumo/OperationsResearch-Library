{
 "cells": [
  {
   "cell_type": "markdown",
   "id": "80af3496",
   "metadata": {},
   "source": [
    "# Vertex Cover for Tree\n",
    "\n",
    "\n",
    "## Prepare Data\n",
    "\n",
    "Consider this tree represented as edges list: \n",
    "\n",
    "```\n",
    "[[1,2], [1,3], [1,4], [3,5], [3,6], [4,7]]\n",
    "```\n",
    "Draw this network. "
   ]
  },
  {
   "cell_type": "code",
   "execution_count": null,
   "id": "4df35c84",
   "metadata": {},
   "outputs": [],
   "source": [
    "# Prepare: Change the working directory. \n",
    "# JUST RUN IT ONCE! DON'T run this again!\n",
    "# JUST MAKE SURE the current working directory output is '/OperationsResearch-Library'!\n",
    "import os\n",
    "BASE_DIR = os.path.abspath(\".\")\n",
    "# os.chdir(BASE_DIR)\n",
    "# os.chdir('../../')\n",
    "print(os.getcwd())"
   ]
  },
  {
   "cell_type": "code",
   "execution_count": null,
   "id": "c2e6d4c1",
   "metadata": {},
   "outputs": [
    {
     "name": "stderr",
     "output_type": "stream",
     "text": [
      "/OperationsResearch-Library/venv/lib/python3.9/site-packages/networkx/drawing/nx_pylab.py:304: UserWarning: \n",
      "\n",
      "The arrowstyle keyword argument is not applicable when drawing edges\n",
      "with LineCollection.\n",
      "\n",
      "To make this warning go away, either specify `arrows=True` to\n",
      "force FancyArrowPatches or use the default value for arrowstyle.\n",
      "Note that using FancyArrowPatches may be slow for large graphs.\n",
      "\n",
      "  draw_networkx_edges(G, pos, arrows=arrows, **edge_kwds)\n"
     ]
    },
    {
     "data": {
      "image/png": "[encoded data removed]",
      "text/plain": [
       "<Figure size 400x200 with 1 Axes>"
      ]
     },
     "metadata": {},
     "output_type": "display_data"
    }
   ],
   "source": [
    "# Draw the network. \n",
    "import importlib\n",
    "import basics.drawer\n",
    "importlib.reload(basics.drawer)\n",
    "from basics.drawer import Drawer\n",
    "import network_optimization.basics.read_graph as read\n",
    "\n",
    "edges = [[1,2], [1,3], [1,4], [3,5], [3,6], [4,7]]\n",
    "\n",
    "# Custom layout of vertices on the canvas\n",
    "layers = [[1], [2,3,4], [5,6,7]]\n",
    "\n",
    "drawer = Drawer()\n",
    "drawer.draw_network_from_edges(edges=edges, directed_graph=False, weighted_graph=False, custom_layers=layers, figsize=(4,2), node_color='#00AABB')"
   ]
  },
  {
   "cell_type": "code",
   "execution_count": null,
   "id": "b68a15f5",
   "metadata": {},
   "outputs": [
    {
     "name": "stdout",
     "output_type": "stream",
     "text": [
      "The size of minimum vertex cover :3\n",
      "\n",
      "DP table: \n",
      "dp(1) = [3, 3]\n",
      "dp(2) = [0, 1]\n",
      "dp(3) = [2, 1]\n",
      "dp(4) = [1, 1]\n",
      "dp(5) = [0, 1]\n",
      "dp(6) = [0, 1]\n",
      "dp(7) = [0, 1]\n"
     ]
    }
   ],
   "source": [
    "def minimum_vertex_cover_for_tree(adjList : map):\n",
    "    \"\"\"\n",
    "    Compute the minimum vertex cover \n",
    "    \"\"\"\n",
    "    n = len(adjList.keys())\n",
    "    \n",
    "    # DP table: \n",
    "    #   dp[u][0] = min cover size for the subtree rooted at u, excluding u\n",
    "    #   dp[u][1] = min cover size for the subtree rooted at u, including u\n",
    "    dp = [[0, 0] for _ in range(n + 1)]\n",
    "    visited = [False] * (n + 1)\n",
    "    selected_vertices = []\n",
    "\n",
    "    def dfs(u):\n",
    "        \"\"\"\n",
    "        Use DFS to iterate nodes starting from u.\n",
    "\n",
    "        Args: \n",
    "            u: start node \n",
    "        \"\"\" \n",
    "        visited[u] = True\n",
    "        # Initial table for node u.\n",
    "        dp[u][0] = 0\n",
    "        dp[u][1] = 1\n",
    "\n",
    "        for neighbor in adjList[u]: \n",
    "            if not visited[neighbor]:\n",
    "                # neighbors that are not visited yet are children of u. \n",
    "                \n",
    "                # Each child is denoted as v in the formula. \n",
    "                v = neighbor\n",
    "\n",
    "                dfs(v)\n",
    "                # If vertex cover does not include u, all subtrees rooted at children of u should be included.\n",
    "                # (And because G is a tree, substrees rooted at different children are disjoint.)\n",
    "                dp[u][0] += dp[v][1]\n",
    "\n",
    "                # If vertex cover includes u, any child of u can be either included or excluded. Choose the one with minimum size. \n",
    "                dp[u][1] += min(dp[v][0], dp[v][1])\n",
    "        return\n",
    "    \n",
    "    dfs(u=1)\n",
    "    return min(dp[1][0], dp[1][1]), dp\n",
    "\n",
    "adjList = read.create_adj_list(edges, directed_graph=False)\n",
    "\n",
    "res, dp = minimum_vertex_cover_for_tree(adjList)\n",
    "print(f'The size of minimum vertex cover :{res}')\n",
    "# Print the dp table:\n",
    "print('\\nDP table: ') \n",
    "for i, table in enumerate(dp):\n",
    "    if i == 0: \n",
    "        continue \n",
    "    print(f'dp({i}) = {table}')\n"
   ]
  },
  {
   "cell_type": "code",
   "execution_count": 66,
   "id": "c7e39b1a",
   "metadata": {},
   "outputs": [
    {
     "name": "stdout",
     "output_type": "stream",
     "text": [
      "The vertices selected are: [1, 3, 4]\n"
     ]
    }
   ],
   "source": [
    "def track_vertices(adjList : list, dp : list): \n",
    "    \"\"\"\n",
    "    Track and find out the vertices selected from the dp tables. \n",
    "    \"\"\"\n",
    "    n = len(adjList.keys())\n",
    "    \n",
    "    visited = [False] * (n + 1)\n",
    "    \n",
    "    selected = []\n",
    "    \n",
    "    def reconstruct(u, parent_included):\n",
    "        \"\"\"\n",
    "        Reconstruct the process starting from u. \n",
    "        \n",
    "        Args: \n",
    "            u: current vertex.\n",
    "            parents_included: indicates whether the parent of u is included or not. \n",
    "        \"\"\"\n",
    "        visited[u] = True\n",
    "        \n",
    "        if parent_included:\n",
    "            # If parent of u is included, then u can be either included or excluded. \n",
    "            if dp[u][1] <= dp[u][0]:\n",
    "                # If including u leads to a smaller size, then append u to the selected list. \n",
    "                selected.append(u)\n",
    "                for v in adjList[u]:\n",
    "                    if not visited[v]:\n",
    "                        reconstruct(v, True)\n",
    "            else:\n",
    "                for v in adjList[u]:\n",
    "                    if not visited[v]:\n",
    "                        reconstruct(v, False)\n",
    "        else:\n",
    "            # If parent of u is NOT included, then u must be included. \n",
    "            selected.append(u)\n",
    "            for v in adjList[u]:\n",
    "                if not visited[v]:\n",
    "                    reconstruct(v, True)\n",
    "        return \n",
    "    \n",
    "    root_included = dp[1][1] < dp[1][0]\n",
    "    reconstruct(1, root_included)\n",
    "    \n",
    "    return selected\n",
    "\n",
    "selected = track_vertices(adjList, dp)\n",
    "\n",
    "print(f'The vertices selected are: {selected}')\n"
   ]
  },
  {
   "cell_type": "code",
   "execution_count": 75,
   "id": "5208fdf1",
   "metadata": {},
   "outputs": [
    {
     "data": {
      "image/png": "[encoded data removed]",
      "text/plain": [
       "<Figure size 400x200 with 1 Axes>"
      ]
     },
     "metadata": {},
     "output_type": "display_data"
    }
   ],
   "source": [
    "# Dye thoes selected vertices\n",
    "importlib.reload(basics.drawer)\n",
    "node_colors = []\n",
    "for node in adjList.keys(): \n",
    "    if node in selected:\n",
    "        node_colors.append('#55DDEE')\n",
    "    else: \n",
    "        node_colors.append('#00AABB')\n",
    "\n",
    "drawer.draw_network_from_edges(edges=edges, directed_graph=False, weighted_graph=False, custom_layers=layers, figsize=(4,2), node_color=node_colors)"
   ]
  }
 ],
 "metadata": {
  "kernelspec": {
   "display_name": "venv",
   "language": "python",
   "name": "python3"
  },
  "language_info": {
   "codemirror_mode": {
    "name": "ipython",
    "version": 3
   },
   "file_extension": ".py",
   "mimetype": "text/x-python",
   "name": "python",
   "nbconvert_exporter": "python",
   "pygments_lexer": "ipython3",
   "version": "3.9.13"
  }
 },
 "nbformat": 4,
 "nbformat_minor": 5
}
