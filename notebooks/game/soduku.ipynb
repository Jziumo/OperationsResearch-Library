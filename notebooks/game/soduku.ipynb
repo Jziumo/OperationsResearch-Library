{
 "cells": [
  {
   "cell_type": "markdown",
   "id": "28e91df5",
   "metadata": {},
   "source": [
    "# Sodoku\n",
    "\n",
    "I studied and followed these instructions on this problem: \n",
    "\n",
    "- [Algorithm to Solve Sudoku | Sudoku Solver - GeeksforGeeks](https://www.geeksforgeeks.org/sudoku-backtracking-7/)\n",
    "\n"
   ]
  },
  {
   "cell_type": "markdown",
   "id": "1b7b39d3",
   "metadata": {},
   "source": [
    "## Game Description\n",
    "\n",
    "Given an incomplete Soduku in the form of $9\\times 9$ matrix, our task is to complete it.\n",
    "\n",
    "**Game Rule:** Each of the digits 1-9 must occur exactly once in: \n",
    "- Each row;\n",
    "- Each column;\n",
    "- Each of the nine $3\\times 3$ sub-square-matrices of the grid. "
   ]
  },
  {
   "cell_type": "markdown",
   "id": "acc7d22e",
   "metadata": {},
   "source": [
    "## Prepare Data\n",
    "\n",
    "In the input `matrix[9][9]`, incomplete cells are represented as zeros, while other cells are filled with some number between 1 and 9. "
   ]
  },
  {
   "cell_type": "code",
   "execution_count": null,
   "id": "612daa42",
   "metadata": {},
   "outputs": [],
   "source": [
    "matrix = [\n",
    "    [3, 0, 6, 5, 0, 8, 4, 0, 0],\n",
    "    [5, 2, 0, 0, 0, 0, 0, 0, 0],\n",
    "    [0, 8, 7, 0, 0, 0, 0, 3, 1],\n",
    "    [0, 0, 3, 0, 1, 0, 0, 8, 0],\n",
    "    [9, 0, 0, 8, 6, 3, 0, 0, 5],\n",
    "    [0, 5, 0, 0, 9, 0, 6, 0, 0],\n",
    "    [1, 3, 0, 0, 0, 0, 2, 5, 0],\n",
    "    [0, 0, 0, 0, 0, 0, 0, 7, 4],\n",
    "    [0, 0, 5, 2, 0, 6, 3, 0, 0]    \n",
    "]"
   ]
  },
  {
   "cell_type": "markdown",
   "id": "51914ca0",
   "metadata": {},
   "source": [
    "## Method: Backtracking\n",
    "\n"
   ]
  },
  {
   "cell_type": "code",
   "execution_count": null,
   "id": "750c5a2d",
   "metadata": {},
   "outputs": [],
   "source": [
    "def sudoku(matrix): \n",
    "    \"\"\"\n",
    "    Solve the sudoku problem. \n",
    "    \n",
    "    Args: \n",
    "        matrix: the input matrix, should be an incomplete sudoku. \n",
    "    Returns: \n",
    "        matrix: the result matrix, should be a complete sudoku. \n",
    "    \"\"\"\n",
    "    def helper(matrix, row, col): \n",
    "        \"\"\"\n",
    "        The recursive function. \n",
    "        \n",
    "        Args:\n",
    "            matrix: current sudoku matrix.\n",
    "\n",
    "        Returns: \n",
    "            True if current `matrix` could be solved if continue filling; \n",
    "            False otherwise. \n",
    "        \n",
    "        \"\"\"\n",
    "\n",
    "        \n",
    "        return\n",
    "    return matrix"
   ]
  }
 ],
 "metadata": {
  "language_info": {
   "name": "python"
  }
 },
 "nbformat": 4,
 "nbformat_minor": 5
}
