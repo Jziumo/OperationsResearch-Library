{
 "cells": [
  {
   "cell_type": "markdown",
   "id": "89f0cec0",
   "metadata": {},
   "source": [
    "# ICA#1: Estimate Pi\n",
    "\n",
    "Name: Zijin Qin\n",
    "\n",
    "ID: 5146489856\n",
    "\n",
    "We first build two functions to generate random points and judge if the point is inside the unit circle (with $r=1$). "
   ]
  },
  {
   "cell_type": "code",
   "execution_count": null,
   "id": "406a0ed1",
   "metadata": {},
   "outputs": [],
   "source": [
    "import random\n",
    "\n",
    "# generate (x, y) with each between -1 and 1\n",
    "def in_circle(x, y): \n",
    "    return x**2 + y**2 <= 1\n",
    "\n",
    "def generate_point():\n",
    "    x = random.uniform(-1, 1)\n",
    "    y = random.uniform(-1, 1)\n",
    "    return x, y"
   ]
  },
  {
   "cell_type": "markdown",
   "id": "79f1f49c",
   "metadata": {},
   "source": [
    "An example of a generate point: "
   ]
  },
  {
   "cell_type": "code",
   "execution_count": 3,
   "id": "ed4a6b8a",
   "metadata": {},
   "outputs": [
    {
     "name": "stdout",
     "output_type": "stream",
     "text": [
      "0.9377696082852895 0.5469661585730605\n",
      "False\n"
     ]
    }
   ],
   "source": [
    "x, y = generate_point()\n",
    "print(x, y)\n",
    "print(in_circle(x, y))"
   ]
  },
  {
   "cell_type": "markdown",
   "id": "120591b5",
   "metadata": {},
   "source": [
    "Now we try to generate a random point for 1,000,000 times, and count the times that the point fall inside the unit circle. "
   ]
  },
  {
   "cell_type": "code",
   "execution_count": null,
   "id": "cc4c7698",
   "metadata": {},
   "outputs": [
    {
     "name": "stdout",
     "output_type": "stream",
     "text": [
      "Times of the point fall into the circle: 785734\n"
     ]
    }
   ],
   "source": [
    "simulations = 1000000\n",
    "\n",
    "inside_cnt = 0\n",
    "\n",
    "for i in range(simulations):\n",
    "    x, y = generate_point()\n",
    "    if in_circle(x, y): \n",
    "        inside_cnt += 1\n",
    "\n",
    "print(\"Times of the point fall into the circle:\", inside_cnt)"
   ]
  },
  {
   "cell_type": "markdown",
   "id": "8e3db40c",
   "metadata": {},
   "source": [
    "Calculate the value of $\\pi$."
   ]
  },
  {
   "cell_type": "code",
   "execution_count": 10,
   "id": "71cac39d",
   "metadata": {},
   "outputs": [
    {
     "name": "stdout",
     "output_type": "stream",
     "text": [
      "Estimated value of pi: 3.142936\n"
     ]
    }
   ],
   "source": [
    "pi_estimate = 4 * (inside_cnt / simulations)\n",
    "print(\"Estimated value of pi:\", pi_estimate)"
   ]
  }
 ],
 "metadata": {
  "kernelspec": {
   "display_name": "venv",
   "language": "python",
   "name": "python3"
  },
  "language_info": {
   "codemirror_mode": {
    "name": "ipython",
    "version": 3
   },
   "file_extension": ".py",
   "mimetype": "text/x-python",
   "name": "python",
   "nbconvert_exporter": "python",
   "pygments_lexer": "ipython3",
   "version": "3.10.17"
  }
 },
 "nbformat": 4,
 "nbformat_minor": 5
}
