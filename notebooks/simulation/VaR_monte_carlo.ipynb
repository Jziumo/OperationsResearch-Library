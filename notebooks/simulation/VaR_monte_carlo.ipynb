{
 "cells": [
  {
   "cell_type": "markdown",
   "id": "e479eef4",
   "metadata": {},
   "source": [
    "# Value at Risk (VaR) using Monte Carlo Simulation\n",
    "\n",
    "Import necessary libraries. "
   ]
  },
  {
   "cell_type": "code",
   "execution_count": 1,
   "id": "5670f3a9",
   "metadata": {},
   "outputs": [],
   "source": [
    "import numpy as np\n",
    "import pandas as pd\n",
    "import datetime as dt\n",
    "import yfinance as yf\n",
    "import matplotlib.pyplot as plt\n",
    "from scipy.stats import norm"
   ]
  },
  {
   "cell_type": "markdown",
   "id": "8b41f278",
   "metadata": {},
   "source": [
    "## Implementation\n",
    "\n",
    "### Set Time from to a certain number of years. "
   ]
  },
  {
   "cell_type": "code",
   "execution_count": 2,
   "id": "9d10fc9e",
   "metadata": {},
   "outputs": [],
   "source": [
    "years = 15\n",
    "\n",
    "# Today's date\n",
    "end_date = dt.datetime.now()\n",
    "\n",
    "# 15 years ago from today\n",
    "start_date = end_date - dt.timedelta(days=365 * years)"
   ]
  },
  {
   "cell_type": "code",
   "execution_count": 3,
   "id": "254a3bc5",
   "metadata": {},
   "outputs": [
    {
     "name": "stdout",
     "output_type": "stream",
     "text": [
      "End Date: 2025-09-29 19:40:32.145953\n",
      "Start Date: 2025-09-29 19:40:32.145953\n"
     ]
    }
   ],
   "source": [
    "print(f'End Date: {end_date}')\n",
    "print(f'Start Date: {end_date}')"
   ]
  },
  {
   "cell_type": "markdown",
   "id": "5745ba4e",
   "metadata": {},
   "source": [
    "Create a List of Tickers"
   ]
  },
  {
   "cell_type": "code",
   "execution_count": 4,
   "id": "fffeb617",
   "metadata": {},
   "outputs": [],
   "source": [
    "tickers = ['SPY', 'BND', 'GLD', 'QQQ', 'VTI']"
   ]
  },
  {
   "cell_type": "markdown",
   "id": "7a4df901",
   "metadata": {},
   "source": [
    "### Download the daily **adjusted close prices** for the tickers. \n",
    "\n",
    "**Adjusted Closed Prices**: Dividends stock splits, which makes our analysis more accurate. "
   ]
  },
  {
   "cell_type": "code",
   "execution_count": 5,
   "id": "26f6c39d",
   "metadata": {},
   "outputs": [
    {
     "name": "stderr",
     "output_type": "stream",
     "text": [
      "/tmp/ipykernel_1144/3270788488.py:4: FutureWarning: YF.download() has changed argument auto_adjust default to True\n",
      "  data = yf.download(ticker, start=start_date, end=end_date)\n",
      "[*********************100%***********************]  1 of 1 completed\n",
      "/tmp/ipykernel_1144/3270788488.py:4: FutureWarning: YF.download() has changed argument auto_adjust default to True\n",
      "  data = yf.download(ticker, start=start_date, end=end_date)\n",
      "[*********************100%***********************]  1 of 1 completed\n",
      "/tmp/ipykernel_1144/3270788488.py:4: FutureWarning: YF.download() has changed argument auto_adjust default to True\n",
      "  data = yf.download(ticker, start=start_date, end=end_date)\n",
      "[*********************100%***********************]  1 of 1 completed\n",
      "/tmp/ipykernel_1144/3270788488.py:4: FutureWarning: YF.download() has changed argument auto_adjust default to True\n",
      "  data = yf.download(ticker, start=start_date, end=end_date)\n",
      "[*********************100%***********************]  1 of 1 completed\n",
      "/tmp/ipykernel_1144/3270788488.py:4: FutureWarning: YF.download() has changed argument auto_adjust default to True\n",
      "  data = yf.download(ticker, start=start_date, end=end_date)\n",
      "[*********************100%***********************]  1 of 1 completed\n"
     ]
    }
   ],
   "source": [
    "adj_close_df = pd.DataFrame()\n",
    "\n",
    "for ticker in tickers: \n",
    "    data = yf.download(ticker, start=start_date, end=end_date)\n",
    "\n",
    "    if 'Close' in data.columns: \n",
    "        adj_close_df[ticker] = data['Close']"
   ]
  },
  {
   "cell_type": "code",
   "execution_count": 6,
   "id": "8ab10bde",
   "metadata": {},
   "outputs": [
    {
     "name": "stdout",
     "output_type": "stream",
     "text": [
      "                  SPY        BND         GLD        QQQ        VTI\n",
      "Date                                                              \n",
      "2010-10-04  86.818939  53.810345  128.460007  42.493675  44.688938\n",
      "2010-10-05  88.566811  53.823414  130.990005  43.527973  45.619469\n",
      "2010-10-06  88.559166  53.947197  131.809998  43.151073  45.573334\n",
      "2010-10-07  88.452293  54.038429  130.369995  43.308838  45.511814\n",
      "2010-10-08  88.948402  53.973267  131.660004  43.606838  45.819435\n",
      "                   SPY        BND         GLD         QQQ         VTI\n",
      "Date                                                                 \n",
      "2025-09-23  663.210022  74.440002  346.459991  598.200012  328.089996\n",
      "2025-09-24  661.099976  74.290001  343.320007  596.099976  326.890015\n",
      "2025-09-25  658.049988  74.209999  344.750000  593.530029  325.140015\n",
      "2025-09-26  661.820007  74.209999  346.739990  595.969971  327.179993\n",
      "2025-09-29  663.679993  74.400002  352.459991  598.729980  327.100006\n"
     ]
    }
   ],
   "source": [
    "print(adj_close_df.head())\n",
    "print(adj_close_df.tail())"
   ]
  },
  {
   "cell_type": "markdown",
   "id": "a09cb72e",
   "metadata": {},
   "source": [
    "### Calculate the daily log returns and drop any NAs. \n",
    "\n",
    "Log returns are additive. "
   ]
  },
  {
   "cell_type": "code",
   "execution_count": 7,
   "id": "15e544a7",
   "metadata": {},
   "outputs": [],
   "source": [
    "log_returns = np.log(adj_close_df / adj_close_df.shift(1))\n",
    "\n",
    "# Drop the first row with NaN values\n",
    "log_returns = log_returns.dropna()"
   ]
  },
  {
   "cell_type": "code",
   "execution_count": 8,
   "id": "0124cd23",
   "metadata": {},
   "outputs": [
    {
     "name": "stdout",
     "output_type": "stream",
     "text": [
      "                 SPY       BND       GLD       QQQ       VTI\n",
      "Date                                                        \n",
      "2010-10-05  0.019932  0.000243  0.019503  0.024049  0.020609\n",
      "2010-10-06 -0.000086  0.002297  0.006240 -0.008696 -0.001012\n",
      "2010-10-07 -0.001208  0.001690 -0.010985  0.003649 -0.001351\n",
      "2010-10-08  0.005593 -0.001207  0.009846  0.006857  0.006736\n",
      "2010-10-11  0.000943 -0.000362  0.004774  0.000402  0.001509\n",
      "                 SPY       BND       GLD       QQQ       VTI\n",
      "Date                                                        \n",
      "2025-09-23 -0.005458  0.002017  0.004078 -0.006664 -0.005380\n",
      "2025-09-24 -0.003187 -0.002017 -0.009104 -0.003517 -0.003664\n",
      "2025-09-25 -0.004624 -0.001077  0.004157 -0.004321 -0.005368\n",
      "2025-09-26  0.005713  0.000000  0.005756  0.004102  0.006255\n",
      "2025-09-29  0.002806  0.002557  0.016362  0.004620 -0.000245\n"
     ]
    }
   ],
   "source": [
    "print(log_returns.head())\n",
    "print(log_returns.tail())"
   ]
  },
  {
   "cell_type": "markdown",
   "id": "48e284fd",
   "metadata": {},
   "source": [
    "### Create a function that will be used to calculate portfolio expected return\n",
    "\n",
    "To clarify, we are assuming that future returns are based on past returns, which is not a reliable assumption. \n",
    "\n",
    "**Better approach**: use my own expected returns. "
   ]
  },
  {
   "cell_type": "code",
   "execution_count": 9,
   "id": "0714684e",
   "metadata": {},
   "outputs": [],
   "source": [
    "def expected_return(weights, log_returns): \n",
    "    return np.sum(log_returns.mean() * weights)"
   ]
  },
  {
   "cell_type": "markdown",
   "id": "20f71971",
   "metadata": {},
   "source": [
    "### Create a function that will be used to calculate portfolio standarad deviation\n",
    "\n",
    "`cov_matrix`: Consists of the corelation of every single stock in the portfolio. "
   ]
  },
  {
   "cell_type": "code",
   "execution_count": 10,
   "id": "9253c0d3",
   "metadata": {},
   "outputs": [],
   "source": [
    "def standard_deviation(weights, cov_matrix): \n",
    "    variance = weights.T @ cov_matrix @ weights\n",
    "    return np.sqrt(variance)"
   ]
  },
  {
   "cell_type": "markdown",
   "id": "4875eb3e",
   "metadata": {},
   "source": [
    "### Create a covariance matrix for all the securities"
   ]
  },
  {
   "cell_type": "code",
   "execution_count": 11,
   "id": "e32b052e",
   "metadata": {},
   "outputs": [],
   "source": [
    "cov_matrix = log_returns.cov()"
   ]
  },
  {
   "cell_type": "code",
   "execution_count": 12,
   "id": "842d788f",
   "metadata": {},
   "outputs": [
    {
     "name": "stdout",
     "output_type": "stream",
     "text": [
      "              SPY           BND       GLD       QQQ       VTI\n",
      "SPY  1.173452e-04  9.562811e-07  0.000005  0.000132  0.000120\n",
      "BND  9.562811e-07  9.618360e-06  0.000009  0.000002  0.000001\n",
      "GLD  4.904801e-06  9.213237e-06  0.000097  0.000006  0.000005\n",
      "QQQ  1.315544e-04  1.734299e-06  0.000006  0.000170  0.000134\n",
      "VTI  1.195038e-04  1.169660e-06  0.000005  0.000134  0.000123\n"
     ]
    }
   ],
   "source": [
    "print(cov_matrix)"
   ]
  },
  {
   "cell_type": "markdown",
   "id": "12978b83",
   "metadata": {},
   "source": [
    "### Create an equally weighted portfolio and find total portfolio expected return and standard deviation"
   ]
  },
  {
   "cell_type": "code",
   "execution_count": 13,
   "id": "42bb1467",
   "metadata": {},
   "outputs": [],
   "source": [
    "portfolio_value = 1000000\n",
    "weights = np.array([1 / len(tickers)] * len(tickers))\n",
    "portfolio_expected_return = expected_return(weights, log_returns)\n",
    "portfolio_std_dev = standard_deviation(weights, cov_matrix)"
   ]
  },
  {
   "cell_type": "code",
   "execution_count": 14,
   "id": "8404f066",
   "metadata": {},
   "outputs": [
    {
     "name": "stdout",
     "output_type": "stream",
     "text": [
      "Expected Return:  0.00\n",
      "Standard Deviation:  0.01\n"
     ]
    }
   ],
   "source": [
    "print(f'Expected Return: {portfolio_expected_return: .2f}')\n",
    "print(f'Standard Deviation: {portfolio_std_dev: .2f}')"
   ]
  },
  {
   "cell_type": "markdown",
   "id": "bfb8125b",
   "metadata": {},
   "source": [
    "### Create a funcion that gives a random Z-score based on normally distribution"
   ]
  },
  {
   "cell_type": "code",
   "execution_count": 15,
   "id": "a8783f38",
   "metadata": {},
   "outputs": [],
   "source": [
    "def random_z_score(): \n",
    "    return np.random.normal(0, 1)"
   ]
  },
  {
   "cell_type": "markdown",
   "id": "ba41af54",
   "metadata": {},
   "source": [
    "### Create a function to calculate scenarioGainLoss"
   ]
  },
  {
   "cell_type": "code",
   "execution_count": 16,
   "id": "96fc0aa2",
   "metadata": {},
   "outputs": [],
   "source": [
    "days = 5\n",
    "\n",
    "def scenario_gain_loss(portfolio_value, portfolio_std_dev, portfolio_expected_return, z_score, days): \n",
    "    return portfolio_value * portfolio_expected_return * days + portfolio_value * portfolio_std_dev * z_score * np.sqrt(days)"
   ]
  },
  {
   "cell_type": "markdown",
   "id": "0eca7f62",
   "metadata": {},
   "source": [
    "### Run 10000 simulations"
   ]
  },
  {
   "cell_type": "code",
   "execution_count": 17,
   "id": "75021aee",
   "metadata": {},
   "outputs": [],
   "source": [
    "simulations = 10000\n",
    "scenario_return = []\n",
    "\n",
    "for i in range(simulations): \n",
    "    z_score = random_z_score()\n",
    "    scenario_return.append(scenario_gain_loss(portfolio_value, portfolio_std_dev, portfolio_expected_return, z_score, days))"
   ]
  },
  {
   "cell_type": "code",
   "execution_count": 18,
   "id": "2a0d88d6",
   "metadata": {},
   "outputs": [
    {
     "name": "stdout",
     "output_type": "stream",
     "text": [
      "Examples of Scenario Returns: [-14202.018801916583, 29865.316466435965, -2873.741536557982, 9670.988829576127, 2807.7527469379975]\n"
     ]
    }
   ],
   "source": [
    "print(f'Examples of Scenario Returns: {scenario_return[:5]}')"
   ]
  },
  {
   "cell_type": "markdown",
   "id": "31f5702f",
   "metadata": {},
   "source": [
    "### Specify a confidence interval and calculate the VaR"
   ]
  },
  {
   "cell_type": "code",
   "execution_count": 19,
   "id": "a2cb1746",
   "metadata": {},
   "outputs": [],
   "source": [
    "confidence_level = 0.95\n",
    "VaR = (-1) * np.percentile(scenario_return, 100 * (1 - confidence_level))"
   ]
  },
  {
   "cell_type": "code",
   "execution_count": 20,
   "id": "70466610",
   "metadata": {},
   "outputs": [
    {
     "name": "stdout",
     "output_type": "stream",
     "text": [
      "VaR: 25123.116737624012\n"
     ]
    }
   ],
   "source": [
    "print(f'VaR: {VaR}')"
   ]
  },
  {
   "cell_type": "markdown",
   "id": "c27bf1ea",
   "metadata": {},
   "source": [
    "### Plot the results of all 10000 scenarios"
   ]
  },
  {
   "cell_type": "code",
   "execution_count": 21,
   "id": "f9d7b6e9",
   "metadata": {},
   "outputs": [
    {
     "data": {
      "image/png": "[encoded data removed]",
      "text/plain": [
       "<Figure size 640x480 with 1 Axes>"
      ]
     },
     "metadata": {},
     "output_type": "display_data"
    }
   ],
   "source": [
    "plt.hist(scenario_return, bins=50, density=True)\n",
    "plt.xlabel('Scenario Gain/Loss ($)')\n",
    "plt.ylabel('Frequency')\n",
    "plt.title(f'Distribution of Portfolio Gain/Loss Over {days} Days')\n",
    "plt.axvline(x=-VaR, color='r', linestyle='dashed', linewidth=2, label=f'VaR at {int(confidence_level*100)}%: ${VaR:.2f}')\n",
    "plt.legend()\n",
    "plt.show()"
   ]
  },
  {
   "cell_type": "markdown",
   "id": "bbfa57ab",
   "metadata": {},
   "source": [
    "## Integration\n",
    "\n",
    "Now we integrate the whole process into a class so that we can call it given different parameters. "
   ]
  },
  {
   "cell_type": "code",
   "execution_count": 22,
   "id": "13e93601",
   "metadata": {},
   "outputs": [],
   "source": [
    "def download_prices(past_years, tickers = ['SPY', 'BND', 'GLD', 'QQQ', 'VTI']): \n",
    "    \"\"\"\n",
    "    Download prices data from Yahoo given a specified number of past years.\n",
    "    \"\"\"\n",
    "    df = pd.DataFrame()\n",
    "\n",
    "    # Today's date\n",
    "    end_date = dt.datetime.now()\n",
    "\n",
    "    # 15 years ago from today\n",
    "    start_date = end_date - dt.timedelta(days=365 * past_years)\n",
    "    \n",
    "    for ticker in tickers: \n",
    "        data = yf.download(ticker, start=start_date, end=end_date, actions=True)\n",
    "        prices = data['Close']\n",
    "        divs = data['Dividends']\n",
    "\n",
    "        # Daily returns including dividends\n",
    "        returns = prices.pct_change().fillna(0) + (divs / prices.shift(1)).fillna(0)\n",
    "\n",
    "        # Rebuild cumulative adjusted price\n",
    "        adj_prices = (1 + returns).cumprod() * prices.iloc[0]\n",
    "\n",
    "        df[ticker] = adj_prices\n",
    "\n",
    "    print('Prices Download Complete! \\n')\n",
    "\n",
    "    return df\n",
    "\n",
    "class VaRMonteCarlo: \n",
    "    def __init__(self, days, confidence_level, price_df, past_years=15, portfolio_value=100000, num_simulations=10000, tickers = ['SPY', 'BND', 'GLD', 'QQQ', 'VTI']): \n",
    "        self.tickers = tickers\n",
    "        self.days = days\n",
    "        self.confidence_level = confidence_level\n",
    "        self.past_years = past_years\n",
    "        self.portfolio_value = portfolio_value\n",
    "        self.num_simulations = num_simulations\n",
    "        self.price_df = price_df\n",
    "        self.VaR = 0\n",
    "        self.scenario_return = []\n",
    "        self.start()\n",
    "    \n",
    "    def compute_log_returns(self, df): \n",
    "        log_returns = np.log(df / df.shift(1))\n",
    "        return log_returns.dropna()\n",
    "    \n",
    "    def expected_return(self, weights, log_returns): \n",
    "        return np.sum(log_returns.mean() * weights)\n",
    "    \n",
    "    def standard_deviation(self, weights, cov_matrix): \n",
    "        variance = weights.T @ cov_matrix @ weights\n",
    "        return np.sqrt(variance)\n",
    "    \n",
    "    def random_z_score(self): \n",
    "        return np.random.normal(0, 1)\n",
    "    \n",
    "    def scenario_gain_loss(self, portfolio_value, portfolio_std_dev, portfolio_expected_return, z_score, days): \n",
    "        return portfolio_value * portfolio_expected_return * days + portfolio_value * portfolio_std_dev * z_score * np.sqrt(days)\n",
    "    \n",
    "    def get_VaR(self): \n",
    "        return self.VaR\n",
    "    \n",
    "    def plot_distribution(self):\n",
    "        plt.hist(self.scenario_return, bins=50, density=True)\n",
    "        plt.xlabel('Scenario Gain/Loss ($)')\n",
    "        plt.ylabel('Frequency')\n",
    "        plt.title(f'Distribution of Portfolio Gain/Loss Over {self.days} Days')\n",
    "        plt.axvline(x=-self.VaR, color='r', linestyle='dashed', linewidth=2, label=f'VaR at {int(self.confidence_level*100)}%: ${self.VaR:.2f}')\n",
    "        plt.legend()\n",
    "        plt.show()\n",
    "\n",
    "    def start(self):\n",
    "        log_returns = self.compute_log_returns(self.price_df)\n",
    "        cov_matrix = log_returns.cov()\n",
    "\n",
    "        weights = np.array([1 / len(tickers)] * len(tickers))\n",
    "        portfolio_expected_return = self.expected_return(weights, log_returns)\n",
    "        portfolio_std_dev = self.standard_deviation(weights, cov_matrix)\n",
    "\n",
    "        self.scenario_return = []\n",
    "\n",
    "        for i in range(self.num_simulations): \n",
    "            z_score = self.random_z_score()\n",
    "            self.scenario_return.append(self.scenario_gain_loss(portfolio_value, portfolio_std_dev, portfolio_expected_return, z_score, self.days))\n",
    "\n",
    "        self.VaR = (-1) * np.percentile(self.scenario_return, 100 * (1 - self.confidence_level))"
   ]
  },
  {
   "cell_type": "code",
   "execution_count": 23,
   "id": "b3c274df",
   "metadata": {},
   "outputs": [
    {
     "name": "stderr",
     "output_type": "stream",
     "text": [
      "/tmp/ipykernel_1144/3956957261.py:14: FutureWarning: YF.download() has changed argument auto_adjust default to True\n",
      "  data = yf.download(ticker, start=start_date, end=end_date, actions=True)\n",
      "[*********************100%***********************]  1 of 1 completed\n",
      "/tmp/ipykernel_1144/3956957261.py:14: FutureWarning: YF.download() has changed argument auto_adjust default to True\n",
      "  data = yf.download(ticker, start=start_date, end=end_date, actions=True)\n",
      "[*********************100%***********************]  1 of 1 completed\n",
      "/tmp/ipykernel_1144/3956957261.py:14: FutureWarning: YF.download() has changed argument auto_adjust default to True\n",
      "  data = yf.download(ticker, start=start_date, end=end_date, actions=True)\n",
      "[*********************100%***********************]  1 of 1 completed\n",
      "/tmp/ipykernel_1144/3956957261.py:14: FutureWarning: YF.download() has changed argument auto_adjust default to True\n",
      "  data = yf.download(ticker, start=start_date, end=end_date, actions=True)\n",
      "[*********************100%***********************]  1 of 1 completed\n",
      "/tmp/ipykernel_1144/3956957261.py:14: FutureWarning: YF.download() has changed argument auto_adjust default to True\n",
      "  data = yf.download(ticker, start=start_date, end=end_date, actions=True)\n",
      "[*********************100%***********************]  1 of 1 completed"
     ]
    },
    {
     "name": "stdout",
     "output_type": "stream",
     "text": [
      "Prices Download Complete! \n",
      "\n"
     ]
    },
    {
     "name": "stderr",
     "output_type": "stream",
     "text": [
      "\n"
     ]
    }
   ],
   "source": [
    "price_df = download_prices(past_years=15, tickers=tickers)"
   ]
  },
  {
   "cell_type": "code",
   "execution_count": 24,
   "id": "20cd70d1",
   "metadata": {},
   "outputs": [
    {
     "name": "stdout",
     "output_type": "stream",
     "text": [
      "VaR: 24552.892001199496\n"
     ]
    },
    {
     "data": {
      "image/png": "[encoded data removed]",
      "text/plain": [
       "<Figure size 640x480 with 1 Axes>"
      ]
     },
     "metadata": {},
     "output_type": "display_data"
    }
   ],
   "source": [
    "var_simulator = VaRMonteCarlo(days=5, confidence_level=0.95, price_df=price_df)\n",
    "print(f'VaR: {var_simulator.get_VaR()}')\n",
    "var_simulator.plot_distribution()"
   ]
  }
 ],
 "metadata": {
  "kernelspec": {
   "display_name": "venv",
   "language": "python",
   "name": "python3"
  },
  "language_info": {
   "codemirror_mode": {
    "name": "ipython",
    "version": 3
   },
   "file_extension": ".py",
   "mimetype": "text/x-python",
   "name": "python",
   "nbconvert_exporter": "python",
   "pygments_lexer": "ipython3",
   "version": "3.10.17"
  }
 },
 "nbformat": 4,
 "nbformat_minor": 5
}
